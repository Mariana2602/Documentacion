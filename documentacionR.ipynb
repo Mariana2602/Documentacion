{
 "cells": [
  {
   "cell_type": "markdown",
   "id": "d5dbd4c3-7cac-4b03-ad53-7925c3b365a6",
   "metadata": {},
   "source": [
    "Mariana Lopez (30913839)\n",
    "\n",
    "# **Documentacion del lenguaje R**\n",
    "\n",
    "R es un lenguaje de programación y entorno de software especializado en análisis estadístico, minería de datos y gráficos. \n",
    "Fue creado a principios de los años 90 por Ross Ihaka y Robert Gentleman en la Universidad de Auckland, Nueva Zelanda. R se \n",
    "inspiró en el lenguaje S, desarrollado en los años 70 en los laboratorios Bell, pero con la ventaja de ser de código abierto.\n",
    "\n",
    "## Variables en R\n",
    "\n",
    "En R, las variables se pueden crear sin necesidad de declararlas previamente. Simplemente asignamos un valor utilizando el operador de asignación <- o =."
   ]
  },
  {
   "cell_type": "code",
   "execution_count": 14,
   "id": "b4daaa64-dd18-4e87-9615-31979e703b05",
   "metadata": {},
   "outputs": [],
   "source": [
    "a <- 10 \n",
    "b = 5    \n",
    "nombre <- \"Mariana\"  \n",
    "varBooleana <- TRUE "
   ]
  },
  {
   "cell_type": "markdown",
   "id": "93f63144-5ee7-46e1-a2e6-cbfdc268da93",
   "metadata": {},
   "source": [
    "## Tipos de datos en R\n",
    "\n",
    "- **Numérico**: Valores numéricos con o sin decimales (10, 3.14).\n",
    "- **Entero**: Se define agregando una L (5L).\n",
    "- **Carácter (String)**: Texto entre comillas (\"Hola\").\n",
    "- **Lógico (Booleano)**: TRUE o FALSE.\n",
    "- **Complejo**: Números complejos (3 + 2i)."
   ]
  },
  {
   "cell_type": "code",
   "execution_count": 16,
   "id": "95b386be-0a91-4255-b873-adb71b5227ea",
   "metadata": {
    "scrolled": true
   },
   "outputs": [
    {
     "data": {
      "text/html": [
       "'numeric'"
      ],
      "text/latex": [
       "'numeric'"
      ],
      "text/markdown": [
       "'numeric'"
      ],
      "text/plain": [
       "[1] \"numeric\""
      ]
     },
     "metadata": {},
     "output_type": "display_data"
    },
    {
     "data": {
      "text/html": [
       "'character'"
      ],
      "text/latex": [
       "'character'"
      ],
      "text/markdown": [
       "'character'"
      ],
      "text/plain": [
       "[1] \"character\""
      ]
     },
     "metadata": {},
     "output_type": "display_data"
    },
    {
     "data": {
      "text/html": [
       "'logical'"
      ],
      "text/latex": [
       "'logical'"
      ],
      "text/markdown": [
       "'logical'"
      ],
      "text/plain": [
       "[1] \"logical\""
      ]
     },
     "metadata": {},
     "output_type": "display_data"
    }
   ],
   "source": [
    "a <- 42       # Numérico\n",
    "b <- 3.14     # Numérico (decimal)\n",
    "c <- \"Hola\"   # Carácter\n",
    "d <- TRUE     # Lógico\n",
    "e <- 2 + 3i   # Complejo\n",
    "\n",
    "#Para verificar el tipo de una variable usamos class():\n",
    "\n",
    "class(a)\n",
    "class(c)\n",
    "class(d)"
   ]
  },
  {
   "cell_type": "markdown",
   "id": "aab3317f-51e7-48f5-838a-0febcb008dce",
   "metadata": {},
   "source": [
    "## Operaciones básicas en R\n",
    "\n",
    "R permite realizar operaciones matemáticas básicas como suma, resta, multiplicación, división, y más.\n",
    "\n",
    "- **Suma**: (+) 5 + 3 = 8\n",
    "- **Resta**: (-) 5 - 2 = 10\n",
    "- **Multiplicacion**: (*) 5 * 10 = 50\n",
    "- **Division**: (/) 25 / 5 = 5\n",
    "- **Potencia**: (**  o  ^) 5**2 = 25\n",
    "- **Módulo (resto de división)**: (%%) 10 %% 3 = 1\n",
    "- **Division entera**: (%/%) 5 %/% 3 = 3"
   ]
  },
  {
   "cell_type": "code",
   "execution_count": 19,
   "id": "94325767-b3f1-4659-8b7d-02be18ab5a83",
   "metadata": {},
   "outputs": [],
   "source": [
    "x <- 10\n",
    "y <- 3\n",
    "\n",
    "suma <- x + y \n",
    "resta <- x - y\n",
    "multiplicacion <- x * y \n",
    "division <- x / y \n",
    "potencia <- x**y  \n",
    "modulo <- x %% y \n",
    "division_entera <- x %/% y "
   ]
  },
  {
   "cell_type": "markdown",
   "id": "10ee0b18-08b7-4124-a35b-1e3d144f0267",
   "metadata": {},
   "source": [
    "## Operadores Relacionales\n",
    "\n",
    "Los operadores relacionales en R comparan valores y devuelven TRUE o FALSE (booleanos).\n",
    "\n",
    "- **Igualdad**: (==) 5 == 5 (TRUE)\n",
    "- **Diferente**: (!=) 5 != 3 (TRUE)\n",
    "- **Menor que**: (<) 3 < 5 (TRUE)\n",
    "- **Mayor que**: (>) 25 > 5 (TRUE)\n",
    "- **Menor o igual**: (<=) 3 <= 3 (TRUE)\n",
    "- **Mayor o igual**: (!=) 5 >= 10 (FALSE)\n",
    "\n",
    "## Operadores Lógicos\n",
    "\n",
    "- **AND (Y)**: (&) TRUE & FALSE (FALSE)\n",
    "- **OR (O)**: (|) TRUE | FALSE (TRUE)\n",
    "- **NOT (Negacion)**: (!) !TRUE (FALSE)\n",
    "\n",
    "## Entrada y salida en R\n",
    "\n",
    "Para interactuar con el usuario, R proporciona funciones para entrada (readline()) y salida (print())."
   ]
  },
  {
   "cell_type": "code",
   "execution_count": 1,
   "id": "a75fa718-3e29-4e06-9a53-dede03091af0",
   "metadata": {},
   "outputs": [
    {
     "name": "stdout",
     "output_type": "stream",
     "text": [
      "[1] \"Hello world!\"\n"
     ]
    },
    {
     "name": "stdin",
     "output_type": "stream",
     "text": [
      "Ingrese su nombre:  Mariana\n"
     ]
    },
    {
     "name": "stdout",
     "output_type": "stream",
     "text": [
      "[1] \"Hola Mariana\"\n"
     ]
    }
   ],
   "source": [
    "imprimir <- \"Hello world!\"\n",
    "print(imprimir)\n",
    "\n",
    "nombre <- readline(\"Ingrese su nombre: \")\n",
    "print(paste(\"Hola\", nombre))"
   ]
  },
  {
   "cell_type": "markdown",
   "id": "3432b87f-5148-45fe-8772-1af3f25f179d",
   "metadata": {},
   "source": [
    "## Funciones en R\n",
    "\n",
    "En R, una función es un bloque de código que realiza una tarea específica. Se pueden usar **funciones predefinidas o crear funciones personalizadas**.\n",
    "\n",
    "### Funciones predefinidas"
   ]
  },
  {
   "cell_type": "code",
   "execution_count": 22,
   "id": "59423d62-af55-439a-b7e2-0bd0e53cb6ab",
   "metadata": {},
   "outputs": [
    {
     "data": {
      "text/html": [
       "15"
      ],
      "text/latex": [
       "15"
      ],
      "text/markdown": [
       "15"
      ],
      "text/plain": [
       "[1] 15"
      ]
     },
     "metadata": {},
     "output_type": "display_data"
    },
    {
     "data": {
      "text/html": [
       "3"
      ],
      "text/latex": [
       "3"
      ],
      "text/markdown": [
       "3"
      ],
      "text/plain": [
       "[1] 3"
      ]
     },
     "metadata": {},
     "output_type": "display_data"
    },
    {
     "data": {
      "text/html": [
       "5"
      ],
      "text/latex": [
       "5"
      ],
      "text/markdown": [
       "5"
      ],
      "text/plain": [
       "[1] 5"
      ]
     },
     "metadata": {},
     "output_type": "display_data"
    },
    {
     "data": {
      "text/html": [
       "1"
      ],
      "text/latex": [
       "1"
      ],
      "text/markdown": [
       "1"
      ],
      "text/plain": [
       "[1] 1"
      ]
     },
     "metadata": {},
     "output_type": "display_data"
    },
    {
     "data": {
      "text/html": [
       "4"
      ],
      "text/latex": [
       "4"
      ],
      "text/markdown": [
       "4"
      ],
      "text/plain": [
       "[1] 4"
      ]
     },
     "metadata": {},
     "output_type": "display_data"
    },
    {
     "data": {
      "text/html": [
       "3.14"
      ],
      "text/latex": [
       "3.14"
      ],
      "text/markdown": [
       "3.14"
      ],
      "text/plain": [
       "[1] 3.14"
      ]
     },
     "metadata": {},
     "output_type": "display_data"
    }
   ],
   "source": [
    "x <- c(1, 2, 3, 4, 5)\n",
    "\n",
    "sum(x)  \n",
    "mean(x)   \n",
    "max(x)    \n",
    "min(x)   \n",
    "sqrt(16) \n",
    "round(3.14159, 2)"
   ]
  },
  {
   "cell_type": "markdown",
   "id": "ac913c63-9e6f-4df4-9aa0-2ae44f6f5cd3",
   "metadata": {},
   "source": [
    "### Funciones personalizadas\n",
    "\n",
    "Para definir una función en R, usamos function()."
   ]
  },
  {
   "cell_type": "code",
   "execution_count": 5,
   "id": "a9e6f609-b31a-4a99-9180-ac2480aeec85",
   "metadata": {},
   "outputs": [
    {
     "data": {
      "text/html": [
       "'Hola, Carlos ¡Bienvenido a R!'"
      ],
      "text/latex": [
       "'Hola, Carlos ¡Bienvenido a R!'"
      ],
      "text/markdown": [
       "'Hola, Carlos ¡Bienvenido a R!'"
      ],
      "text/plain": [
       "[1] \"Hola, Carlos ¡Bienvenido a R!\""
      ]
     },
     "metadata": {},
     "output_type": "display_data"
    }
   ],
   "source": [
    "saludar <- function(nombre) {\n",
    "  mensaje <- paste(\"Hola,\", nombre, \"¡Bienvenido a R!\")\n",
    "  return(mensaje)\n",
    "}\n",
    "\n",
    "saludar(\"Carlos\")\n",
    "\n",
    "# paste() concatena texto.\n",
    "# return() devuelve un resultado."
   ]
  },
  {
   "cell_type": "markdown",
   "id": "afb069c4-993b-473e-a8c5-4ae298712326",
   "metadata": {},
   "source": [
    "### Funciones con parámetros y valores por defecto"
   ]
  },
  {
   "cell_type": "code",
   "execution_count": 20,
   "id": "ae6d7ba1-6b4b-44b7-9ff6-01b6bfc8daac",
   "metadata": {},
   "outputs": [
    {
     "data": {
      "text/html": [
       "10"
      ],
      "text/latex": [
       "10"
      ],
      "text/markdown": [
       "10"
      ],
      "text/plain": [
       "[1] 10"
      ]
     },
     "metadata": {},
     "output_type": "display_data"
    },
    {
     "data": {
      "text/html": [
       "15"
      ],
      "text/latex": [
       "15"
      ],
      "text/markdown": [
       "15"
      ],
      "text/plain": [
       "[1] 15"
      ]
     },
     "metadata": {},
     "output_type": "display_data"
    }
   ],
   "source": [
    "multiplicar <- function(a, b = 2) {\n",
    "  return(a * b)\n",
    "}\n",
    "\n",
    "multiplicar(5)   \n",
    "multiplicar(5, 3)"
   ]
  },
  {
   "cell_type": "markdown",
   "id": "4b53e80f-c5d0-41fa-880d-7ae77758c5a1",
   "metadata": {},
   "source": [
    "### Funciones anónimas (funciones lambda)"
   ]
  },
  {
   "cell_type": "code",
   "execution_count": 23,
   "id": "e4cfeff3-539b-469f-ab27-d6bf712aa0e6",
   "metadata": {},
   "outputs": [
    {
     "data": {
      "text/html": [
       "16"
      ],
      "text/latex": [
       "16"
      ],
      "text/markdown": [
       "16"
      ],
      "text/plain": [
       "[1] 16"
      ]
     },
     "metadata": {},
     "output_type": "display_data"
    },
    {
     "data": {
      "text/html": [
       "<style>\n",
       ".list-inline {list-style: none; margin:0; padding: 0}\n",
       ".list-inline>li {display: inline-block}\n",
       ".list-inline>li:not(:last-child)::after {content: \"\\00b7\"; padding: 0 .5ex}\n",
       "</style>\n",
       "<ol class=list-inline><li>1</li><li>4</li><li>9</li><li>16</li><li>25</li></ol>\n"
      ],
      "text/latex": [
       "\\begin{enumerate*}\n",
       "\\item 1\n",
       "\\item 4\n",
       "\\item 9\n",
       "\\item 16\n",
       "\\item 25\n",
       "\\end{enumerate*}\n"
      ],
      "text/markdown": [
       "1. 1\n",
       "2. 4\n",
       "3. 9\n",
       "4. 16\n",
       "5. 25\n",
       "\n",
       "\n"
      ],
      "text/plain": [
       "[1]  1  4  9 16 25"
      ]
     },
     "metadata": {},
     "output_type": "display_data"
    }
   ],
   "source": [
    "(function(x) x^2)(4)\n",
    "\n",
    "sapply(1:5, function(x) x^2)"
   ]
  },
  {
   "cell_type": "markdown",
   "id": "0e75f98f-1e8c-4c88-b2a8-a811cc4fcecc",
   "metadata": {},
   "source": [
    "## Paquetes en R\n",
    "\n",
    "1. Para instalar un paquete, se usa install.packages().\n",
    "2. Una vez instalado, se debe cargar con library().\n",
    "3. Para listar los paquetes instalados (installed.packages())\n",
    "4. Para la actualización y eliminación de paquetes (update.packages(\"ggplot2\")) y (remove.packages(\"ggplot2\"))"
   ]
  },
  {
   "cell_type": "markdown",
   "id": "85e307e3-87ec-42b4-96f6-53cf23257bd4",
   "metadata": {},
   "source": [
    "## Creación de vectores\n",
    "\n",
    "Se utiliza la función c() (concatenar) para crear vectores:"
   ]
  },
  {
   "cell_type": "code",
   "execution_count": null,
   "id": "493e55e6-845c-4abb-91ad-609ba0ce176b",
   "metadata": {},
   "outputs": [],
   "source": [
    "numeros <- c(1, 2, 3, 4, 5) \n",
    "nombres <- c(\"Ana\", \"Luis\", \"Carlos\")  \n",
    "valores_logicos <- c(TRUE, FALSE, TRUE)"
   ]
  },
  {
   "cell_type": "markdown",
   "id": "5dc23a89-8426-4c36-a779-ee587179eb7a",
   "metadata": {},
   "source": [
    "## Operaciones con vectores\n",
    "\n",
    "R permite hacer operaciones matemáticas directamente sobre vectores, aplicando la operación a cada elemento:"
   ]
  },
  {
   "cell_type": "code",
   "execution_count": null,
   "id": "ca91b2f1-8c6c-4d0a-b08d-c58ed076889f",
   "metadata": {},
   "outputs": [],
   "source": [
    "x <- c(1, 2, 3)\n",
    "y <- c(4, 5, 6)\n",
    "\n",
    "suma <- x + y  # Resultado: c(5, 7, 9)\n",
    "resta <- x - y  # Resultado: c(-3, -3, -3)\n",
    "multiplicacion <- x * y  # Resultado: c(4, 10, 18)\n",
    "division <- x / y  # Resultado: c(0.25, 0.4, 0.5)\n",
    "\n",
    "# También se pueden aplicar funciones estadísticas directamente:\n",
    "\n",
    "sum(x)  # Suma de los elementos: 6\n",
    "mean(x)  # Promedio: 2\n",
    "max(x)  # Máximo: 3\n",
    "min(x)  # Mínimo: 1\n",
    "length(x)  # Longitud del vector: 3"
   ]
  },
  {
   "cell_type": "markdown",
   "id": "c6f745d9-5abf-4e6b-987c-08f00ddaa0a5",
   "metadata": {},
   "source": [
    "## Indexación en vectores\n",
    "\n",
    "Podemos acceder a los elementos de un vector usando corchetes []:"
   ]
  },
  {
   "cell_type": "code",
   "execution_count": 24,
   "id": "066346aa-8ab7-4f4a-a0d4-d730ca0bf626",
   "metadata": {},
   "outputs": [
    {
     "data": {
      "text/html": [
       "10"
      ],
      "text/latex": [
       "10"
      ],
      "text/markdown": [
       "10"
      ],
      "text/plain": [
       "[1] 10"
      ]
     },
     "metadata": {},
     "output_type": "display_data"
    },
    {
     "data": {
      "text/html": [
       "30"
      ],
      "text/latex": [
       "30"
      ],
      "text/markdown": [
       "30"
      ],
      "text/plain": [
       "[1] 30"
      ]
     },
     "metadata": {},
     "output_type": "display_data"
    },
    {
     "data": {
      "text/html": [
       "<style>\n",
       ".list-inline {list-style: none; margin:0; padding: 0}\n",
       ".list-inline>li {display: inline-block}\n",
       ".list-inline>li:not(:last-child)::after {content: \"\\00b7\"; padding: 0 .5ex}\n",
       "</style>\n",
       "<ol class=list-inline><li>20</li><li>40</li></ol>\n"
      ],
      "text/latex": [
       "\\begin{enumerate*}\n",
       "\\item 20\n",
       "\\item 40\n",
       "\\end{enumerate*}\n"
      ],
      "text/markdown": [
       "1. 20\n",
       "2. 40\n",
       "\n",
       "\n"
      ],
      "text/plain": [
       "[1] 20 40"
      ]
     },
     "metadata": {},
     "output_type": "display_data"
    },
    {
     "data": {
      "text/html": [
       "<style>\n",
       ".list-inline {list-style: none; margin:0; padding: 0}\n",
       ".list-inline>li {display: inline-block}\n",
       ".list-inline>li:not(:last-child)::after {content: \"\\00b7\"; padding: 0 .5ex}\n",
       "</style>\n",
       "<ol class=list-inline><li>20</li><li>30</li><li>40</li><li>50</li></ol>\n"
      ],
      "text/latex": [
       "\\begin{enumerate*}\n",
       "\\item 20\n",
       "\\item 30\n",
       "\\item 40\n",
       "\\item 50\n",
       "\\end{enumerate*}\n"
      ],
      "text/markdown": [
       "1. 20\n",
       "2. 30\n",
       "3. 40\n",
       "4. 50\n",
       "\n",
       "\n"
      ],
      "text/plain": [
       "[1] 20 30 40 50"
      ]
     },
     "metadata": {},
     "output_type": "display_data"
    },
    {
     "data": {
      "text/html": [
       "<style>\n",
       ".list-inline {list-style: none; margin:0; padding: 0}\n",
       ".list-inline>li {display: inline-block}\n",
       ".list-inline>li:not(:last-child)::after {content: \"\\00b7\"; padding: 0 .5ex}\n",
       "</style>\n",
       "<ol class=list-inline><li>30</li><li>40</li><li>50</li></ol>\n"
      ],
      "text/latex": [
       "\\begin{enumerate*}\n",
       "\\item 30\n",
       "\\item 40\n",
       "\\item 50\n",
       "\\end{enumerate*}\n"
      ],
      "text/markdown": [
       "1. 30\n",
       "2. 40\n",
       "3. 50\n",
       "\n",
       "\n"
      ],
      "text/plain": [
       "[1] 30 40 50"
      ]
     },
     "metadata": {},
     "output_type": "display_data"
    }
   ],
   "source": [
    "x <- c(10, 20, 30, 40, 50)\n",
    "\n",
    "x[1]  \n",
    "x[3] \n",
    "x[c(2, 4)]  # Segundo y cuarto elemento: c(20, 40)\n",
    "x[-1]  # Todos los elementos excepto el primero: c(20, 30, 40, 50)\n",
    "\n",
    "# Podemos extraer elementos que cumplan una condición:\n",
    "\n",
    "x <- c(10, 20, 30, 40, 50)\n",
    "x[x > 25]  # Retorna los elementos mayores a 25: c(30, 40, 50)"
   ]
  },
  {
   "cell_type": "markdown",
   "id": "e0c7fb1c-d3f7-4792-9faf-f9f269d4e5fe",
   "metadata": {},
   "source": [
    "## Creación de matrices\n",
    "\n",
    "- **nrow** define el número de filas.\n",
    "- **ncol** define el número de columnas.\n",
    "- Los elementos se llenan por columna de forma predeterminada."
   ]
  },
  {
   "cell_type": "code",
   "execution_count": 25,
   "id": "c65d726a-a0ab-4531-91fd-90886867ad7c",
   "metadata": {},
   "outputs": [
    {
     "name": "stdout",
     "output_type": "stream",
     "text": [
      "     [,1] [,2] [,3]\n",
      "[1,]    1    4    7\n",
      "[2,]    2    5    8\n",
      "[3,]    3    6    9\n"
     ]
    },
    {
     "data": {
      "text/html": [
       "4"
      ],
      "text/latex": [
       "4"
      ],
      "text/markdown": [
       "4"
      ],
      "text/plain": [
       "[1] 4"
      ]
     },
     "metadata": {},
     "output_type": "display_data"
    },
    {
     "data": {
      "text/html": [
       "<style>\n",
       ".list-inline {list-style: none; margin:0; padding: 0}\n",
       ".list-inline>li {display: inline-block}\n",
       ".list-inline>li:not(:last-child)::after {content: \"\\00b7\"; padding: 0 .5ex}\n",
       "</style>\n",
       "<ol class=list-inline><li>2</li><li>5</li><li>8</li></ol>\n"
      ],
      "text/latex": [
       "\\begin{enumerate*}\n",
       "\\item 2\n",
       "\\item 5\n",
       "\\item 8\n",
       "\\end{enumerate*}\n"
      ],
      "text/markdown": [
       "1. 2\n",
       "2. 5\n",
       "3. 8\n",
       "\n",
       "\n"
      ],
      "text/plain": [
       "[1] 2 5 8"
      ]
     },
     "metadata": {},
     "output_type": "display_data"
    },
    {
     "data": {
      "text/html": [
       "<style>\n",
       ".list-inline {list-style: none; margin:0; padding: 0}\n",
       ".list-inline>li {display: inline-block}\n",
       ".list-inline>li:not(:last-child)::after {content: \"\\00b7\"; padding: 0 .5ex}\n",
       "</style>\n",
       "<ol class=list-inline><li>7</li><li>8</li><li>9</li></ol>\n"
      ],
      "text/latex": [
       "\\begin{enumerate*}\n",
       "\\item 7\n",
       "\\item 8\n",
       "\\item 9\n",
       "\\end{enumerate*}\n"
      ],
      "text/markdown": [
       "1. 7\n",
       "2. 8\n",
       "3. 9\n",
       "\n",
       "\n"
      ],
      "text/plain": [
       "[1] 7 8 9"
      ]
     },
     "metadata": {},
     "output_type": "display_data"
    },
    {
     "data": {
      "text/html": [
       "<table class=\"dataframe\">\n",
       "<caption>A matrix: 3 × 3 of type dbl</caption>\n",
       "<tbody>\n",
       "\t<tr><td>2</td><td> 8</td><td>14</td></tr>\n",
       "\t<tr><td>4</td><td>10</td><td>16</td></tr>\n",
       "\t<tr><td>6</td><td>12</td><td>18</td></tr>\n",
       "</tbody>\n",
       "</table>\n"
      ],
      "text/latex": [
       "A matrix: 3 × 3 of type dbl\n",
       "\\begin{tabular}{lll}\n",
       "\t 2 &  8 & 14\\\\\n",
       "\t 4 & 10 & 16\\\\\n",
       "\t 6 & 12 & 18\\\\\n",
       "\\end{tabular}\n"
      ],
      "text/markdown": [
       "\n",
       "A matrix: 3 × 3 of type dbl\n",
       "\n",
       "| 2 |  8 | 14 |\n",
       "| 4 | 10 | 16 |\n",
       "| 6 | 12 | 18 |\n",
       "\n"
      ],
      "text/plain": [
       "     [,1] [,2] [,3]\n",
       "[1,] 2     8   14  \n",
       "[2,] 4    10   16  \n",
       "[3,] 6    12   18  "
      ]
     },
     "metadata": {},
     "output_type": "display_data"
    },
    {
     "data": {
      "text/html": [
       "<table class=\"dataframe\">\n",
       "<caption>A matrix: 3 × 3 of type dbl</caption>\n",
       "<tbody>\n",
       "\t<tr><td>6</td><td> 9</td><td>12</td></tr>\n",
       "\t<tr><td>7</td><td>10</td><td>13</td></tr>\n",
       "\t<tr><td>8</td><td>11</td><td>14</td></tr>\n",
       "</tbody>\n",
       "</table>\n"
      ],
      "text/latex": [
       "A matrix: 3 × 3 of type dbl\n",
       "\\begin{tabular}{lll}\n",
       "\t 6 &  9 & 12\\\\\n",
       "\t 7 & 10 & 13\\\\\n",
       "\t 8 & 11 & 14\\\\\n",
       "\\end{tabular}\n"
      ],
      "text/markdown": [
       "\n",
       "A matrix: 3 × 3 of type dbl\n",
       "\n",
       "| 6 |  9 | 12 |\n",
       "| 7 | 10 | 13 |\n",
       "| 8 | 11 | 14 |\n",
       "\n"
      ],
      "text/plain": [
       "     [,1] [,2] [,3]\n",
       "[1,] 6     9   12  \n",
       "[2,] 7    10   13  \n",
       "[3,] 8    11   14  "
      ]
     },
     "metadata": {},
     "output_type": "display_data"
    },
    {
     "data": {
      "text/html": [
       "<table class=\"dataframe\">\n",
       "<caption>A matrix: 2 × 2 of type int</caption>\n",
       "<tbody>\n",
       "\t<tr><td>6</td><td>10</td></tr>\n",
       "\t<tr><td>8</td><td>12</td></tr>\n",
       "</tbody>\n",
       "</table>\n"
      ],
      "text/latex": [
       "A matrix: 2 × 2 of type int\n",
       "\\begin{tabular}{ll}\n",
       "\t 6 & 10\\\\\n",
       "\t 8 & 12\\\\\n",
       "\\end{tabular}\n"
      ],
      "text/markdown": [
       "\n",
       "A matrix: 2 × 2 of type int\n",
       "\n",
       "| 6 | 10 |\n",
       "| 8 | 12 |\n",
       "\n"
      ],
      "text/plain": [
       "     [,1] [,2]\n",
       "[1,] 6    10  \n",
       "[2,] 8    12  "
      ]
     },
     "metadata": {},
     "output_type": "display_data"
    },
    {
     "data": {
      "text/html": [
       "<table class=\"dataframe\">\n",
       "<caption>A matrix: 2 × 2 of type dbl</caption>\n",
       "<tbody>\n",
       "\t<tr><td>23</td><td>31</td></tr>\n",
       "\t<tr><td>34</td><td>46</td></tr>\n",
       "</tbody>\n",
       "</table>\n"
      ],
      "text/latex": [
       "A matrix: 2 × 2 of type dbl\n",
       "\\begin{tabular}{ll}\n",
       "\t 23 & 31\\\\\n",
       "\t 34 & 46\\\\\n",
       "\\end{tabular}\n"
      ],
      "text/markdown": [
       "\n",
       "A matrix: 2 × 2 of type dbl\n",
       "\n",
       "| 23 | 31 |\n",
       "| 34 | 46 |\n",
       "\n"
      ],
      "text/plain": [
       "     [,1] [,2]\n",
       "[1,] 23   31  \n",
       "[2,] 34   46  "
      ]
     },
     "metadata": {},
     "output_type": "display_data"
    }
   ],
   "source": [
    "m <- matrix(1:9, nrow=3, ncol=3)  # Matriz de 3x3 con los números del 1 al 9\n",
    "print(m)\n",
    "\n",
    "# Podemos acceder a los elementos usando la sintaxis [fila, columna]:\n",
    "\n",
    "m[1, 2]  # Elemento en la primera fila y segunda columna (2)\n",
    "m[2, ]  # Segunda fila completa\n",
    "m[, 3]  # Tercera columna completa\n",
    "\n",
    "# Se pueden realizar operaciones matemáticas de forma similar a los vectores:\n",
    "\n",
    "m * 2  \n",
    "m + 5  \n",
    "m1 <- matrix(1:4, nrow=2, ncol=2)\n",
    "m2 <- matrix(5:8, nrow=2, ncol=2)\n",
    "m1 + m2  \n",
    "m1 %*% m2  # Multiplicación de matrices"
   ]
  },
  {
   "cell_type": "markdown",
   "id": "637cd7b6-e880-4849-8304-b788629fb545",
   "metadata": {},
   "source": [
    "## Programación Orientada a Objetos en R (OOP)\n",
    "\n",
    "En R, hay tres sistemas principales de Programación Orientada a Objetos:\n",
    "\n",
    "1. S3 (el más simple y flexible)\n",
    "2. S4 (más estructurado y formal)\n",
    "3. R6 (más cercano a la POO tradicional de otros lenguajes)\n",
    "\n",
    "### Sistema S3 (Simple y Flexible)\n",
    "\n",
    "S3 es el sistema de clases más antiguo y simple en R. No se definen clases explícitamente; en su lugar, se asigna un \"atributo de clase\" a un objeto y se crean métodos genéricos que funcionan en función del tipo de objeto."
   ]
  },
  {
   "cell_type": "code",
   "execution_count": 26,
   "id": "32817d32-853c-4c1a-8ef1-2866d0f72108",
   "metadata": {},
   "outputs": [
    {
     "name": "stdout",
     "output_type": "stream",
     "text": [
      "Nombre: Carlos \n",
      "Edad: 30 \n"
     ]
    }
   ],
   "source": [
    "persona <- list(nombre=\"Carlos\", edad=30)  \n",
    "class(persona) <- \"Persona\" \n",
    "\n",
    "print.Persona <- function(obj) {\n",
    "  cat(\"Nombre:\", obj$nombre, \"\\nEdad:\", obj$edad, \"\\n\")\n",
    "}\n",
    "print(persona)\n",
    "#En S3, no se hace una validación estricta de atributos ni se define una estructura de clase."
   ]
  },
  {
   "cell_type": "markdown",
   "id": "1059edc7-038c-4fa4-ac3c-952371ceb829",
   "metadata": {},
   "source": [
    "### Sistema S4 (Más formal y estructurado)\n",
    "\n",
    "S4 es una versión más estricta y avanzada de S3. Permite definir clases con más control sobre los atributos y métodos.\n",
    "\n"
   ]
  },
  {
   "cell_type": "code",
   "execution_count": 1,
   "id": "b0d5aec9-8591-4c47-8159-a804545b15eb",
   "metadata": {},
   "outputs": [
    {
     "data": {
      "text/plain": [
       "Nombre: Ana \n",
       "Edad: 25 "
      ]
     },
     "metadata": {},
     "output_type": "display_data"
    }
   ],
   "source": [
    "setClass(\"Persona\", \n",
    "         slots = list(nombre = \"character\", edad = \"numeric\"))\n",
    "\n",
    "p <- new(\"Persona\", nombre=\"Ana\", edad=25)\n",
    "\n",
    "setMethod(\"show\", \"Persona\", function(object) {\n",
    "  cat(\"Nombre:\", object@nombre, \"\\nEdad:\", object@edad, \"\\n\")\n",
    "})\n",
    "\n",
    "p"
   ]
  },
  {
   "cell_type": "markdown",
   "id": "ec94d34d-db8a-4897-bacc-340563b71067",
   "metadata": {},
   "source": [
    "### Sistema R6 (Más similar a POO clásica)\n",
    "\n",
    "R6 es un sistema más avanzado que permite definir clases con métodos y encapsulación, similar a Python o Java."
   ]
  },
  {
   "cell_type": "code",
   "execution_count": null,
   "id": "032c285e-360e-45ec-9d42-8d2229a096b6",
   "metadata": {},
   "outputs": [],
   "source": [
    "library(R6)\n",
    "\n",
    "Persona <- R6Class(\"Persona\",\n",
    "  public = list(\n",
    "    nombre = NULL,\n",
    "    edad = NULL,\n",
    "    \n",
    "    initialize = function(nombre, edad) {\n",
    "      self$nombre <- nombre\n",
    "      self$edad <- edad\n",
    "    },\n",
    "    \n",
    "    mostrar = function() {\n",
    "      cat(\"Nombre:\", self$nombre, \"\\nEdad:\", self$edad, \"\\n\")\n",
    "    }\n",
    "  )\n",
    ")\n",
    "\n",
    "p <- Persona$new(\"Luis\", 28)\n",
    "p$mostrar()"
   ]
  },
  {
   "cell_type": "markdown",
   "id": "7b554adb-dc02-43ec-8c7f-d9f1c1807af7",
   "metadata": {},
   "source": [
    "## Interactividad y Visualización en R\n",
    "\n",
    "R también ofrece herramientas interactivas y visuales que permiten una exploración de datos más intuitiva. Esto incluye comandos interactivos, generación de gráficos y librerías avanzadas para visualización.\n",
    "\n",
    "### Comandos Interactivos en R"
   ]
  },
  {
   "cell_type": "code",
   "execution_count": null,
   "id": "154f08c5-3d49-486b-94fd-64d55dc6fae4",
   "metadata": {},
   "outputs": [],
   "source": [
    "getwd()   # Muestra el directorio de trabajo actual\n",
    "setwd(\"C:/mi_carpeta\")  # Cambia el directorio de trabajo\n",
    "ls()      # Lista los objetos en el entorno de trabajo\n",
    "rm(x)     # Elimina un objeto llamado x\n",
    "rm(list=ls())  # Borra todos los objetos del entorno\n",
    "help(mean)  # Muestra la documentación de la función mean()\n",
    "?mean      # Otra forma de obtener ayuda sobre una función"
   ]
  },
  {
   "cell_type": "markdown",
   "id": "870a2033-7c83-4ac3-9219-45cbe5a53b14",
   "metadata": {},
   "source": [
    "### Creación de Gráficos en R\n",
    "\n",
    "Existen tres formas principales de hacer gráficos en R:\n",
    "\n",
    "1. Base R (gráficos básicos)\n",
    "2. ggplot2 (gráficos avanzados y personalizados)\n",
    "3. Plotly (gráficos interactivos)\n",
    "\n",
    "**Base R (gráficos básicos)**"
   ]
  },
  {
   "cell_type": "code",
   "execution_count": 27,
   "id": "3d7c5c21-2343-463e-a042-ad23307965bc",
   "metadata": {},
   "outputs": [
    {
     "data": {
      "image/png": "[encoded data removed]",
      "text/plain": [
       "Plot with title \"Gráfico de Dispersión\""
      ]
     },
     "metadata": {
      "image/png": {
       "height": 420,
       "width": 420
      }
     },
     "output_type": "display_data"
    }
   ],
   "source": [
    "#Grafrico de dispersion\n",
    "\n",
    "x <- c(1, 2, 3, 4, 5)\n",
    "y <- c(2, 4, 6, 8, 10)\n",
    "\n",
    "plot(x, y, type=\"p\", col=\"blue\", pch=16, main=\"Gráfico de Dispersión\", xlab=\"Eje X\", ylab=\"Eje Y\")\n",
    "\n",
    "# type=\"p\" Gráfico de puntos\n",
    "# col=\"blue\" Color azul\n",
    "# pch=16 Forma del punto\n",
    "# main=\"\" Título del gráfico"
   ]
  },
  {
   "cell_type": "markdown",
   "id": "2536e54b-d805-46b3-8e4c-7d984b1ce82d",
   "metadata": {},
   "source": [
    "**ggplot2 (gráficos avanzados y personalizados)**\n",
    "\n",
    "El paquete ggplot2 permite crear gráficos con un diseño más profesional y personalizable."
   ]
  },
  {
   "cell_type": "code",
   "execution_count": 28,
   "id": "3aa66b25-baa1-4ed9-b55f-58b8d0e007a1",
   "metadata": {},
   "outputs": [
    {
     "name": "stderr",
     "output_type": "stream",
     "text": [
      "Installing package into 'C:/Users/House/AppData/Local/R/win-library/4.4'\n",
      "(as 'lib' is unspecified)\n",
      "\n",
      "also installing the dependencies 'colorspace', 'farver', 'labeling', 'munsell', 'R6', 'RColorBrewer', 'viridisLite', 'fansi', 'magrittr', 'pkgconfig', 'gtable', 'isoband', 'scales', 'tibble', 'withr'\n",
      "\n",
      "\n"
     ]
    },
    {
     "name": "stdout",
     "output_type": "stream",
     "text": [
      "package 'colorspace' successfully unpacked and MD5 sums checked\n",
      "package 'farver' successfully unpacked and MD5 sums checked\n",
      "package 'labeling' successfully unpacked and MD5 sums checked\n",
      "package 'munsell' successfully unpacked and MD5 sums checked\n",
      "package 'R6' successfully unpacked and MD5 sums checked\n",
      "package 'RColorBrewer' successfully unpacked and MD5 sums checked\n",
      "package 'viridisLite' successfully unpacked and MD5 sums checked\n",
      "package 'fansi' successfully unpacked and MD5 sums checked\n",
      "package 'magrittr' successfully unpacked and MD5 sums checked\n",
      "package 'pkgconfig' successfully unpacked and MD5 sums checked\n",
      "package 'gtable' successfully unpacked and MD5 sums checked\n",
      "package 'isoband' successfully unpacked and MD5 sums checked\n",
      "package 'scales' successfully unpacked and MD5 sums checked\n",
      "package 'tibble' successfully unpacked and MD5 sums checked\n",
      "package 'withr' successfully unpacked and MD5 sums checked\n",
      "package 'ggplot2' successfully unpacked and MD5 sums checked\n",
      "\n",
      "The downloaded binary packages are in\n",
      "\tC:\\Users\\House\\AppData\\Local\\Temp\\Rtmps3b60X\\downloaded_packages\n"
     ]
    },
    {
     "name": "stderr",
     "output_type": "stream",
     "text": [
      "Warning message:\n",
      "\"package 'ggplot2' was built under R version 4.4.3\"\n"
     ]
    },
    {
     "data": {
      "image/png": "[encoded data removed]",
      "text/plain": [
       "plot without title"
      ]
     },
     "metadata": {
      "image/png": {
       "height": 420,
       "width": 420
      }
     },
     "output_type": "display_data"
    }
   ],
   "source": [
    "install.packages(\"ggplot2\")\n",
    "library(ggplot2)\n",
    "\n",
    "datos <- data.frame(x = 1:10, y = (1:10)^2)\n",
    "\n",
    "ggplot(datos, aes(x, y)) + \n",
    "  geom_point(color=\"red\", size=3) + \n",
    "  geom_line(color=\"blue\") +\n",
    "  labs(title=\"Gráfico con ggplot2\", x=\"Eje X\", y=\"Eje Y\") +\n",
    "  theme_minimal()  "
   ]
  },
  {
   "cell_type": "markdown",
   "id": "67be95c6-f61f-49fd-b431-707aaa86c2fe",
   "metadata": {},
   "source": [
    "**Plotly (gráficos interactivos)**"
   ]
  },
  {
   "cell_type": "code",
   "execution_count": null,
   "id": "8e128ee8-b722-49a2-98e2-5c368ee790d5",
   "metadata": {},
   "outputs": [],
   "source": [
    "install.packages(\"plotly\")\n",
    "library(plotly)\n",
    "\n",
    "datos <- data.frame(x = 1:10, y = (1:10)^2)\n",
    "\n",
    "p <- ggplot(datos, aes(x, y)) +\n",
    "  geom_point(color=\"red\", size=3) +\n",
    "  geom_line(color=\"blue\") +\n",
    "  labs(title=\"Gráfico Interactivo con Plotly\")\n",
    "\n",
    "ggplotly(p)\n",
    "\n",
    "# YA DI EL EJEMPLO ANTERIORMENTE DE COMO SE INSTALA, ESTE NO SE CORRE, MUCHISIMAS GRACIAS <3"
   ]
  },
  {
   "cell_type": "markdown",
   "id": "c12b7bc7-1d8e-4fe5-baa6-98829d931948",
   "metadata": {},
   "source": [
    "## Gráficos Específicos\n",
    "\n",
    "R permite crear diferentes tipos de gráficos según la necesidad:\n",
    "\n",
    "### Histogramas"
   ]
  },
  {
   "cell_type": "code",
   "execution_count": 6,
   "id": "16ee7aed-7df8-4a12-af23-83720f32f82a",
   "metadata": {},
   "outputs": [
    {
     "data": {
      "image/png": "[encoded data removed]",
      "text/plain": [
       "Plot with title \"Histograma\""
      ]
     },
     "metadata": {
      "image/png": {
       "height": 420,
       "width": 420
      }
     },
     "output_type": "display_data"
    }
   ],
   "source": [
    "x <- rnorm(1000)\n",
    "hist(x, col=\"skyblue\", main=\"Histograma\", xlab=\"Valores\", ylab=\"Frecuencia\")"
   ]
  },
  {
   "cell_type": "markdown",
   "id": "5c2fb10b-8f19-45e2-a553-813ced72d4d2",
   "metadata": {},
   "source": [
    "### Boxplots (Gráfico de Cajas)"
   ]
  },
  {
   "cell_type": "code",
   "execution_count": 7,
   "id": "63d3c719-667a-4d5e-9192-970eac7eb2ef",
   "metadata": {},
   "outputs": [
    {
     "data": {
      "image/png": "[encoded data removed]",
      "text/plain": [
       "Plot with title \"Boxplot de Consumo vs Cilindros\""
      ]
     },
     "metadata": {
      "image/png": {
       "height": 420,
       "width": 420
      }
     },
     "output_type": "display_data"
    }
   ],
   "source": [
    "boxplot(mpg ~ cyl, data=mtcars, col=\"lightgreen\", main=\"Boxplot de Consumo vs Cilindros\")"
   ]
  },
  {
   "cell_type": "markdown",
   "id": "4e6af0bc-2844-404f-9368-f3ca079631a9",
   "metadata": {},
   "source": [
    "### Barras y Pasteles"
   ]
  },
  {
   "cell_type": "code",
   "execution_count": 13,
   "id": "85c748ae-7032-40b2-90bc-09846facfff1",
   "metadata": {},
   "outputs": [
    {
     "data": {
      "image/png": "[encoded data removed]",
      "text/plain": [
       "Plot with title \"Gráfico de Barras\""
      ]
     },
     "metadata": {
      "image/png": {
       "height": 420,
       "width": 420
      }
     },
     "output_type": "display_data"
    },
    {
     "data": {
      "image/png": "[encoded data removed]",
      "text/plain": [
       "Plot with title \"Gráfico de Pastel\""
      ]
     },
     "metadata": {
      "image/png": {
       "height": 420,
       "width": 420
      }
     },
     "output_type": "display_data"
    }
   ],
   "source": [
    "barplot(c(10, 20, 15), names.arg=c(\"A\", \"B\", \"C\"), col=c(\"purple\", \"lightgreen\", \"skyblue\"), main=\"Gráfico de Barras\")\n",
    "\n",
    "pie(c(10, 20, 15), labels=c(\"A\", \"B\", \"C\"), col=c(\"purple\", \"lightgreen\", \"skyblue\"), main=\"Gráfico de Pastel\")"
   ]
  },
  {
   "cell_type": "markdown",
   "id": "c0c45870-e17d-42b8-87b1-2aab804f547e",
   "metadata": {},
   "source": [
    "## Conclusion\n",
    "\n",
    "A lo largo de esta documentación, hemos explorado los principios fundamentales de R, desde la declaración de variables y la gestión de estructuras de datos, hasta la programación funcional y orientada a objetos. \n",
    "\n",
    "R destaca por su extensa colección de paquetes y su ecosistema en constante expansión, impulsado por una comunidad activa que contribuye continuamente con nuevas herramientas y metodologías. Su flexibilidad y adaptabilidad lo han posicionado como un estándar en el ámbito del análisis de datos y la modelización estadística.\n",
    "\n",
    "Para una exploración más profunda y detallada de las funcionalidades de R, se recomienda consultar su documentación oficial, disponible en:\n",
    "https://cran.r-project.org/index.html"
   ]
  }
 ],
 "metadata": {
  "kernelspec": {
   "display_name": "R",
   "language": "R",
   "name": "ir"
  },
  "language_info": {
   "codemirror_mode": "r",
   "file_extension": ".r",
   "mimetype": "text/x-r-source",
   "name": "R",
   "pygments_lexer": "r",
   "version": "4.4.2"
  }
 },
 "nbformat": 4,
 "nbformat_minor": 5
}
